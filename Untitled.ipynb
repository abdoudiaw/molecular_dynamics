{
 "cells": [
  {
   "cell_type": "code",
   "execution_count": 1,
   "id": "651c92fa",
   "metadata": {},
   "outputs": [],
   "source": [
    "import numpy as np"
   ]
  },
  {
   "cell_type": "code",
   "execution_count": 3,
   "id": "bf77b78b",
   "metadata": {},
   "outputs": [
    {
     "data": {
      "text/plain": [
       "79627.99635537024"
      ]
     },
     "execution_count": 3,
     "metadata": {},
     "output_type": "execute_result"
    }
   ],
   "source": [
    "1160.*68.6448244442847"
   ]
  },
  {
   "cell_type": "code",
   "execution_count": 4,
   "id": "54a3b289",
   "metadata": {},
   "outputs": [
    {
     "data": {
      "text/plain": [
       "6.864482444428469"
      ]
     },
     "execution_count": 4,
     "metadata": {},
     "output_type": "execute_result"
    }
   ],
   "source": [
    "79627.99635537024/11600."
   ]
  },
  {
   "cell_type": "code",
   "execution_count": null,
   "id": "5b572967",
   "metadata": {},
   "outputs": [],
   "source": []
  }
 ],
 "metadata": {
  "kernelspec": {
   "display_name": "Python 3",
   "language": "python",
   "name": "py3"
  },
  "language_info": {
   "codemirror_mode": {
    "name": "ipython",
    "version": 3
   },
   "file_extension": ".py",
   "mimetype": "text/x-python",
   "name": "python",
   "nbconvert_exporter": "python",
   "pygments_lexer": "ipython3",
   "version": "3.7.2"
  }
 },
 "nbformat": 4,
 "nbformat_minor": 5
}
